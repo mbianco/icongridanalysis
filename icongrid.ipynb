{
 "cells": [
  {
   "cell_type": "code",
   "execution_count": null,
   "id": "6e0f27f2-3c09-4429-9267-ff754eaef5c8",
   "metadata": {},
   "outputs": [],
   "source": [
    "import numpy\n",
    "import xarray as xr\n",
    "import igutils\n",
    "\n",
    "dir(igutils)"
   ]
  },
  {
   "cell_type": "code",
   "execution_count": null,
   "id": "0b0c95df-0652-495d-a961-db9d892f4c6f",
   "metadata": {},
   "outputs": [],
   "source": [
    "grid = xr.open_dataset(\n",
    "    \"icon_grid_0013_R02B04_R.nc\"\n",
    ")\n",
    "grid"
   ]
  },
  {
   "cell_type": "code",
   "execution_count": null,
   "id": "4d6bf337-7113-44d1-899a-4f265e2abb29",
   "metadata": {},
   "outputs": [],
   "source": [
    "igutils.check_consistency(grid)"
   ]
  },
  {
   "cell_type": "code",
   "execution_count": null,
   "id": "dcd9bbc8-af40-4411-8b7f-9ead8fdb7949",
   "metadata": {},
   "outputs": [],
   "source": [
    "eov = igutils.find_pentagons_vertices(grid)\n",
    "print(eov)"
   ]
  },
  {
   "cell_type": "code",
   "execution_count": null,
   "id": "862e1ca2",
   "metadata": {},
   "outputs": [],
   "source": [
    "vs = [int(x) for x in grid.vertices_of_vertex[:, eov[0]]]\n",
    "print(vs[0:-1])\n",
    "latitudes = [float(l) for l in grid.vertices_of_vertex.vlat[vs[0:-1]]]\n",
    "print(latitudes)"
   ]
  },
  {
   "cell_type": "code",
   "execution_count": null,
   "id": "9ea69b64-35e1-4dc3-922a-ca9669ed7d92",
   "metadata": {},
   "outputs": [],
   "source": [
    "# if the longitudes of the are repeated for the two halves of the array then the grid is not an icosahedron but a symmetric grid\n",
    "print(f\"grid.latitude_vertices.values[eov] = {grid.latitude_vertices.values[eov]}\")\n",
    "print(f\"grid.longitude_vertices.values[eov] = {grid.longitude_vertices.values[eov]}\")"
   ]
  },
  {
   "cell_type": "code",
   "execution_count": null,
   "id": "555de1ee-3d54-435a-ab7b-710728b4e769",
   "metadata": {},
   "outputs": [],
   "source": [
    "paths = igutils.pentagons_paths_vertices(grid)"
   ]
  },
  {
   "cell_type": "code",
   "execution_count": null,
   "id": "da5cb434",
   "metadata": {},
   "outputs": [],
   "source": [
    "interesting_path_length = min([ len(x) for x in paths.values() if len(x)>1])\n",
    "print(f\"{interesting_path_length=}\")"
   ]
  },
  {
   "cell_type": "code",
   "execution_count": null,
   "id": "b4dd0f39",
   "metadata": {},
   "outputs": [],
   "source": [
    "import matplotlib.pylab as plt\n",
    "import numpy as np\n",
    "import xarray as xr\n",
    "import cartopy.crs as ccrs\n",
    "import cartopy.feature as cfeature"
   ]
  },
  {
   "cell_type": "code",
   "execution_count": null,
   "id": "b5bc6980",
   "metadata": {},
   "outputs": [],
   "source": [
    "voc = grid.vertices_of_vertex.values\n",
    "\n",
    "fig = plt.figure(figsize=(50, 40)) # Need to find a way of setting the size right...\n",
    "ax = fig.add_subplot(1, 1, 1, projection=ccrs.Mollweide())\n",
    "ax.set_global()\n",
    "ax.add_feature(cfeature.LAND, zorder=0, edgecolor=\"black\")\n",
    "pad = ''\n",
    "v = 0\n",
    "transformatio = ccrs.Geodetic()\n",
    "for v1, v2, v3, v4, v5, v6 in grid.vertices_of_vertex.values.T - 1:\n",
    "    i = np.array([v, v1])\n",
    "    for vi in [v1, v2, v3, v4, v5]:\n",
    "        i = np.array([v, vi])\n",
    "        plt.plot(\n",
    "            np.rad2deg(grid.vertices_of_vertex.vlon[i]),\n",
    "            np.rad2deg(grid.latitude_vertices.vlat[i]),\n",
    "            c= 'k' if v6<=0 else \"k\",\n",
    "            lw=3 if v6<=0 else 1,\n",
    "            alpha=1 if v6<=0 else 0.1,\n",
    "            transform=transformatio,\n",
    "        )\n",
    "    if v6 > 0:\n",
    "        i = np.array([v, v6])\n",
    "        plt.plot(\n",
    "            np.rad2deg(grid.vertices_of_vertex.vlon[i]),\n",
    "            np.rad2deg(grid.latitude_vertices.vlat[i]),\n",
    "            c=\"k\",\n",
    "            lw=1,\n",
    "            alpha=0.1,\n",
    "            transform=transformatio,\n",
    "        )\n",
    "    if True: # v6<=0: Put this on to print only the ids of the pentagons (useful if the grid is big)\n",
    "        plt.text(np.rad2deg(grid.vertices_of_vertex.vlon[v]),\n",
    "                 np.rad2deg(grid.vertices_of_vertex.vlat[v]),\n",
    "                 str(v+1),\n",
    "                 transform=transformatio\n",
    "                )\n",
    "    v=v+1\n",
    "# v = 0\n",
    "# for v1, v2, v3, v4, v5, v6 in grid.vertices_of_vertex.values.T - 1:\n",
    "#     i = np.array([v, v1])\n",
    "#     if v6<=0:\n",
    "#         print(f\"v = {v}\")\n",
    "#         for vi in [v1, v2, v3, v4, v5]:\n",
    "#             i = np.array([v, vi])\n",
    "#             plt.plot(\n",
    "#                 np.rad2deg(grid.vertices_of_vertex.vlon[i]),\n",
    "#                 np.rad2deg(grid.latitude_vertices.vlat[i]),\n",
    "#                 c= 'k' if v6<=0 else \"k\",\n",
    "#                 lw=3 if v6<=0 else 1,\n",
    "#                 alpha=1 if v6<=0 else 0.1,\n",
    "#                 transform=transformatio,\n",
    "#             )\n",
    "#         plt.text(np.rad2deg(grid.vertices_of_vertex.vlon[v]),\n",
    "#                 np.rad2deg(grid.vertices_of_vertex.vlat[v]),\n",
    "#                 str(v+1),\n",
    "#                 transform=transformatio\n",
    "#                 )\n",
    "#     v=v+1\n",
    "\n",
    "colors = ['r', 'g', 'y', 'c']\n",
    "count = 0\n",
    "for path1 in paths.values():\n",
    "    # for path1 in thepaths:\n",
    "        #print(f\"[{count}] length of path = {len(path1)} from {path1[0]} [{float(grid.vertices_of_vertex.vlon[path1[0]-1])}, {float(grid.vertices_of_vertex.vlat[path1[0]-1])}] to {path1[-1]} [{float(grid.vertices_of_vertex.vlon[path1[-1]-1])}, {float(grid.vertices_of_vertex.vlat[path1[-1]-1])}]\")\n",
    "        if len(path1) <= interesting_path_length:\n",
    "            \n",
    "            for ind in range(len(path1)-1):\n",
    "                #print(f\"from vertex {path1[ind]-1} to {path1[ind+1]-1}\")\n",
    "                i = np.array([path1[ind]-1, path1[ind+1]-1])\n",
    "                plt.plot(\n",
    "                    np.rad2deg(grid.longitude_vertices.vlon[i]),\n",
    "                    np.rad2deg(grid.latitude_vertices.vlat[i]),\n",
    "                    c=colors[count%len(colors)],\n",
    "                    lw=4,\n",
    "                    alpha=1,\n",
    "                    transform=transformatio,\n",
    "                )\n",
    "            count = count+1\n",
    "\n",
    "plt.show()\n",
    "plt.close()"
   ]
  },
  {
   "cell_type": "code",
   "execution_count": null,
   "id": "f2911409",
   "metadata": {},
   "outputs": [],
   "source": [
    "\n",
    "#print(paths.keys())\n",
    "rhomboids_north, rhomboids_south = igutils.find_rhomboids(eov, grid, paths, interesting_path_length)"
   ]
  },
  {
   "cell_type": "code",
   "execution_count": null,
   "id": "cffb8a82",
   "metadata": {},
   "outputs": [],
   "source": [
    "vsequence = igutils.mark_rhomboid(rhomboids_north[3],paths, grid)\n",
    "len(vsequence)\n"
   ]
  },
  {
   "cell_type": "code",
   "execution_count": null,
   "id": "a2000e1e",
   "metadata": {},
   "outputs": [],
   "source": [
    "voc = grid.vertices_of_vertex.values\n",
    "\n",
    "fig = plt.figure(figsize=(100, 80)) # Need to find a way of setting the size right...\n",
    "ax = fig.add_subplot(1, 1, 1, projection=ccrs.Mollweide())\n",
    "ax.set_global()\n",
    "ax.add_feature(cfeature.LAND, zorder=0, edgecolor=\"black\")\n",
    "pad = ''\n",
    "v = 0\n",
    "transformatio = ccrs.Geodetic()\n",
    "for v1, v2, v3, v4, v5, v6 in grid.vertices_of_vertex.values.T - 1:\n",
    "    i = np.array([v, v1])\n",
    "    for vi in [v1, v2, v3, v4, v5]:\n",
    "        i = np.array([v, vi])\n",
    "        plt.plot(\n",
    "            np.rad2deg(grid.vertices_of_vertex.vlon[i]),\n",
    "            np.rad2deg(grid.latitude_vertices.vlat[i]),\n",
    "            c=\"k\",\n",
    "            lw=1,\n",
    "            alpha=0.1,\n",
    "            transform=transformatio,\n",
    "        )\n",
    "    if v6 > 0:\n",
    "        i = np.array([v, v6])\n",
    "        plt.plot(\n",
    "            np.rad2deg(grid.vertices_of_vertex.vlon[i]),\n",
    "            np.rad2deg(grid.latitude_vertices.vlat[i]),\n",
    "            c=\"k\",\n",
    "            lw=1,\n",
    "            alpha=0.1,\n",
    "            transform=transformatio,\n",
    "        )\n",
    "    # if v+1 in mark:\n",
    "    #     plt.scatter([float(np.rad2deg(grid.vertices_of_vertex.vlon[v]))],\n",
    "    #             [float(np.rad2deg(grid.vertices_of_vertex.vlat[v]))],\n",
    "    #             c = 'r',\n",
    "    #             s = 10,\n",
    "    #             transform=transformatio\n",
    "    #             )\n",
    "    v=v+1\n",
    "plt.scatter(\n",
    "    [float(np.rad2deg(grid.vlon[x-1])) for x in vsequence],\n",
    "    [float(np.rad2deg(grid.vlat[x-1])) for x in vsequence],\n",
    "    c = 'r', s = 15, transform=transformatio\n",
    "    )\n",
    "\n",
    "ll = 0\n",
    "for x in vsequence:\n",
    "    plt.text(float(np.rad2deg(grid.vlon[x-1])),\n",
    "            float(np.rad2deg(grid.vlat[x-1])),\n",
    "            str(ll), transform=transformatio\n",
    "            )\n",
    "    ll += 1\n",
    "\n",
    "plt.show()\n",
    "plt.close()"
   ]
  }
 ],
 "metadata": {
  "kernelspec": {
   "display_name": ".venv",
   "language": "python",
   "name": "python3"
  },
  "language_info": {
   "codemirror_mode": {
    "name": "ipython",
    "version": 3
   },
   "file_extension": ".py",
   "mimetype": "text/x-python",
   "name": "python",
   "nbconvert_exporter": "python",
   "pygments_lexer": "ipython3",
   "version": "3.13.2"
  }
 },
 "nbformat": 4,
 "nbformat_minor": 5
}
