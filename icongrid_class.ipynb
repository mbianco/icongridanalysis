{
 "cells": [
  {
   "cell_type": "code",
   "execution_count": null,
   "id": "f1f4ddb7",
   "metadata": {},
   "outputs": [],
   "source": [
    "import igutils"
   ]
  },
  {
   "cell_type": "code",
   "execution_count": null,
   "id": "863ba5b6",
   "metadata": {},
   "outputs": [],
   "source": [
    "renum = igutils.RenumberedGridVertices(\"icon_grid_0013_R02B04_R.nc\", verbose=True, skip_check=True)"
   ]
  },
  {
   "cell_type": "code",
   "execution_count": null,
   "id": "45962af3",
   "metadata": {},
   "outputs": [],
   "source": [
    "renum.plot_rhomboid(renum.get_rhomboid_north(4))"
   ]
  }
 ],
 "metadata": {
  "kernelspec": {
   "display_name": ".venv",
   "language": "python",
   "name": "python3"
  },
  "language_info": {
   "codemirror_mode": {
    "name": "ipython",
    "version": 3
   },
   "file_extension": ".py",
   "mimetype": "text/x-python",
   "name": "python",
   "nbconvert_exporter": "python",
   "pygments_lexer": "ipython3",
   "version": "3.13.2"
  }
 },
 "nbformat": 4,
 "nbformat_minor": 5
}
